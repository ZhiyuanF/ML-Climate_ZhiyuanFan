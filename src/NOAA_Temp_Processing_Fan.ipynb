{
 "cells": [
  {
   "cell_type": "markdown",
   "id": "cd2d83fb",
   "metadata": {},
   "source": [
    "### Download"
   ]
  },
  {
   "cell_type": "code",
   "execution_count": null,
   "id": "47c0ccc2",
   "metadata": {},
   "outputs": [],
   "source": [
    "### set years interval for weather data\n",
    "yearBegin = 2021 # year begin\n",
    "yearEnd = 2022 # year end"
   ]
  },
  {
   "cell_type": "code",
   "execution_count": null,
   "id": "f9767950",
   "metadata": {},
   "outputs": [],
   "source": [
    "### load weather zone and weather station information\n",
    "zoneList = pd.read_excel(\"Data/ERCOT weather stations.xlsx\")"
   ]
  },
  {
   "cell_type": "code",
   "execution_count": null,
   "id": "8aac4139",
   "metadata": {},
   "outputs": [],
   "source": [
    "### Create a new directory for weather year if it does not exist \n",
    "for i in range(yearBegin,yearEnd+1):\n",
    "    path = \"Data/%s\" % (i)\n",
    "    if not os.path.exists(path):\n",
    "        os.makedirs(path)"
   ]
  },
  {
   "cell_type": "code",
   "execution_count": null,
   "id": "02537eb8",
   "metadata": {},
   "outputs": [],
   "source": [
    "### download weather data for each zone, each year\n",
    "for i in range(yearBegin,yearEnd+1):\n",
    "    path = \"Data/%s\" % (i)\n",
    "    for j in range(len(zoneList)):\n",
    "        url = \"https://www.ncei.noaa.gov/data/global-hourly/access/%s/%s.csv\" % (i, zoneList[\"STATION_ID\"][j])\n",
    "        wget.download(url,out = path)"
   ]
  },
  {
   "cell_type": "markdown",
   "id": "fd9a09c1",
   "metadata": {},
   "source": [
    "### NOAA temperature data processing\n"
   ]
  },
  {
   "cell_type": "code",
   "execution_count": null,
   "id": "11611eb6",
   "metadata": {},
   "outputs": [],
   "source": [
    "### set years interval for weather data\n",
    "yearBegin = 2021 # year begin\n",
    "yearEnd = 2022 # year end"
   ]
  },
  {
   "cell_type": "code",
   "execution_count": null,
   "id": "e64c45b3",
   "metadata": {},
   "outputs": [],
   "source": [
    "### load weather zone and weather station information\n",
    "zoneList = pd.read_excel(\"Data/ERCOT weather stations.xlsx\")"
   ]
  },
  {
   "cell_type": "code",
   "execution_count": null,
   "id": "8e70bfe6",
   "metadata": {},
   "outputs": [],
   "source": [
    "### Create a new directory for weather year if it does not exist \n",
    "if not os.path.exists(\"Data/Temp\"):\n",
    "    os.makedirs(\"Data/Temp\")"
   ]
  },
  {
   "cell_type": "code",
   "execution_count": null,
   "id": "4639c6d0",
   "metadata": {},
   "outputs": [],
   "source": [
    "for i in range(len(zoneList)):\n",
    "    df = pd.DataFrame()\n",
    "    for j in range(yearBegin,yearEnd+1):\n",
    "        tempRaw = pd.read_csv(\"Data/%s/%s.csv\" % (j,zoneList[\"STATION_ID\"][i]), usecols=[\"DATE\", \"REPORT_TYPE\", \"TMP\"])\n",
    "        df = pd.concat([df, tempRaw])\n",
    "    df = df.loc[df[\"REPORT_TYPE\"]==\"FM-15\"]\n",
    "    df[\"DATE\"] = pd.to_datetime(df[\"DATE\"])\n",
    "    df[\"DATE\"] = df[\"DATE\"].round('H')\n",
    "    df = df.drop_duplicates(subset=['DATE'], keep='first')\n",
    "    df = df.set_index(\"DATE\")\n",
    "    df[\"TMP\"] = df[\"TMP\"].str.slice(stop=5)\n",
    "    df[\"TMP\"] = df[\"TMP\"].astype(int)/10\n",
    "    ### clear temperature outlier\n",
    "    df = df[(np.abs(stats.zscore(df[\"TMP\"])) < 3)]\n",
    "    ### fill missing data\n",
    "    idx = pd.date_range('01-01-2021 01:00', '12-31-2022 23:55',freq=\"H\")\n",
    "    df = df.reindex(idx)\n",
    "    ### potentially calculate missing data number here\n",
    "    df = df.fillna(method = \"backfill\")\n",
    "#     temps = df['2021-06-27':'2022-06-26'] ### hard code here\n",
    "    df.to_csv(\"Data/Temp/%s.csv\" % (zoneList[\"Weather Zone\"][i]))"
   ]
  }
 ],
 "metadata": {
  "kernelspec": {
   "display_name": "Python 3",
   "language": "python",
   "name": "python3"
  },
  "language_info": {
   "codemirror_mode": {
    "name": "ipython",
    "version": 3
   },
   "file_extension": ".py",
   "mimetype": "text/x-python",
   "name": "python",
   "nbconvert_exporter": "python",
   "pygments_lexer": "ipython3",
   "version": "3.8.8"
  }
 },
 "nbformat": 4,
 "nbformat_minor": 5
}
